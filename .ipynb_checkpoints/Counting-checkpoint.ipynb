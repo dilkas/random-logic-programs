{
 "cells": [
  {
   "cell_type": "code",
   "execution_count": 2,
   "metadata": {},
   "outputs": [],
   "source": [
    "from operator import mul\n",
    "from scipy.special import binom\n",
    "from functools import reduce\n",
    "from itertools import product\n",
    "from math import factorial"
   ]
  },
  {
   "cell_type": "code",
   "execution_count": 3,
   "metadata": {},
   "outputs": [],
   "source": [
    "def num_partitions(k, n):\n",
    "    if k == 0 and n == 0:\n",
    "        return 1\n",
    "    if n <= 0 or k <= 0:\n",
    "        return 0\n",
    "    return num_partitions(k, n-k) + num_partitions(k-1, n-1)"
   ]
  },
  {
   "cell_type": "code",
   "execution_count": 4,
   "metadata": {},
   "outputs": [],
   "source": [
    "def partitions(n, max_length):\n",
    "    L = [[1]]\n",
    "    for _ in range(n-1):\n",
    "        L2 = []\n",
    "        for l in L:\n",
    "            L2.append(l[:-1] + [l[-1] + 1])\n",
    "            if len(l) < max_length:\n",
    "                L2.append(l + [1])\n",
    "        L = L2\n",
    "    return [l for l in L if len(l) > 1]"
   ]
  },
  {
   "cell_type": "code",
   "execution_count": 5,
   "metadata": {},
   "outputs": [],
   "source": [
    "def fixed_length_partitions(n, num_partitions, min_value=1):\n",
    "    assert n >= num_partitions\n",
    "    L = [[]]\n",
    "    for i in range(num_partitions - 1):\n",
    "        L2 = []\n",
    "        for l in L:\n",
    "            L2 += [l + [k] for k in range(min_value, n - sum(l) + 1 - (num_partitions - 1 - i))]\n",
    "        L = L2\n",
    "    for l in L:\n",
    "        l.append(n - sum(l))\n",
    "    return L"
   ]
  },
  {
   "cell_type": "code",
   "execution_count": 6,
   "metadata": {},
   "outputs": [],
   "source": [
    "def ordered_subsets(n, max_length):\n",
    "    L = [[]]\n",
    "    while True:\n",
    "        small_L = [l for l in L if len(l) < max_length]\n",
    "        if len(small_L) == 0:\n",
    "            break\n",
    "        L = []\n",
    "        for l in small_L:\n",
    "            for i in range(l[-1]+1 if len(l) > 0 else 1, n+1):\n",
    "                yield l + [i]\n",
    "                L.append(l + [i])"
   ]
  },
  {
   "cell_type": "code",
   "execution_count": 7,
   "metadata": {},
   "outputs": [],
   "source": [
    "def count_programs(arities, predicates_with_arity, num_variables, num_constants, max_num_nodes, max_num_clauses):\n",
    "    num_predicates = sum(predicates_with_arity)\n",
    "    def arity(a):\n",
    "        'The arity of predicate indexed at a'\n",
    "        i = 0\n",
    "        while (a + 1 > predicates_with_arity[i]):\n",
    "            a -= predicates_with_arity[i]\n",
    "            i += 1\n",
    "        return arities[i]\n",
    "\n",
    "    def P(n):\n",
    "        t = num_constants**n\n",
    "        for s in ordered_subsets(n, num_variables):\n",
    "            s = [0] + s + [n+1]\n",
    "            t += reduce(mul, [(num_constants + i)**(s[i+1] - s[i] - 1) for i in range(len(s) - 1)], 1)\n",
    "        #print('P(' + str(n) + ') =', t)\n",
    "        return t\n",
    "\n",
    "    def T(n, a):\n",
    "        if n == 1:\n",
    "            return predicates_with_arity[arities.index(a)] if a in arities else 0\n",
    "        s = 0\n",
    "        for partition1 in partitions(n-1, a / min(arities) if min(arities) > 0 else float('inf')):\n",
    "            for partition2 in fixed_length_partitions(a, len(partition1), min(arities)):\n",
    "                s += reduce(mul, [T(k, l) for k, l in zip(partition1, partition2)], 1)\n",
    "        return T(n-1, a) + 2 * s\n",
    "\n",
    "    def C(a):\n",
    "        if a == 0:\n",
    "            return 1\n",
    "        return sum(T(n, a) for n in range(1, max_num_nodes + 1))\n",
    "\n",
    "    s = 0\n",
    "    for n in range(num_predicates, max_num_clauses + 1):\n",
    "        for partition in fixed_length_partitions(n, num_predicates):\n",
    "            m = 1\n",
    "            for i,h in enumerate(partition):\n",
    "                t = 0\n",
    "                for a in range(max(arities) * max_num_nodes + 1):\n",
    "                    foo = int(C(a) * P(a + arity(i)))\n",
    "                    #print('arity', a, 'gets', foo, 'possibilities')\n",
    "                    t += foo\n",
    "                m *= int(binom(t + h - 1, h))\n",
    "            #print(partition, m)\n",
    "            s += m\n",
    "    return s"
   ]
  },
  {
   "cell_type": "code",
   "execution_count": 8,
   "metadata": {},
   "outputs": [],
   "source": [
    "arities = [[1], [2], [3], [2, 1], [4], [3, 1]]\n",
    "r = list(range(1, 5))\n",
    "predicates_with_arity = {1: r, 2: list(product(r, r)), 3: list(product(r, r, r)), 4: list(product(r, r, r, r))}\n",
    "num_variables = r\n",
    "num_constants = range(0, 4)\n",
    "max_num_nodes = r\n",
    "MAX = 100000\n",
    "\n",
    "f = open('program_counts.csv', 'w+')\n",
    "for arity in arities:\n",
    "    for pred in predicates_with_arity[len(arity)]:\n",
    "        if isinstance(pred, tuple):\n",
    "            pred = list(pred)\n",
    "        elif not isinstance(pred, list):\n",
    "            pred = [pred]\n",
    "        num_pred = sum(pred)\n",
    "        for num_var in num_variables:\n",
    "            for num_const in num_constants:\n",
    "                for max_nodes in max_num_nodes:\n",
    "                    for max_clauses in range(num_pred, num_pred + 6):\n",
    "                        count = count_programs(arity, pred, num_var, num_const, max_nodes, max_clauses)\n",
    "                        if count > MAX:\n",
    "                            break\n",
    "                        d = [arity, pred, num_var, num_const, max_nodes, max_clauses, count]\n",
    "                        s = ';'.join([str(t) for t in d])\n",
    "                        f.write(s+'\\n')\n",
    "f.close()"
   ]
  },
  {
   "cell_type": "code",
   "execution_count": null,
   "metadata": {
    "collapsed": true
   },
   "outputs": [],
   "source": [
    "count_programs([1], [1], 1, 1, 1, 2)"
   ]
  },
  {
   "cell_type": "code",
   "execution_count": null,
   "metadata": {},
   "outputs": [],
   "source": [
    "num_partitions(3, 2)"
   ]
  },
  {
   "cell_type": "code",
   "execution_count": null,
   "metadata": {},
   "outputs": [],
   "source": [
    "list(ordered_subset(3, 2))"
   ]
  },
  {
   "cell_type": "code",
   "execution_count": null,
   "metadata": {},
   "outputs": [],
   "source": []
  }
 ],
 "metadata": {
  "kernelspec": {
   "display_name": "Python 3",
   "language": "python",
   "name": "python3"
  },
  "language_info": {
   "codemirror_mode": {
    "name": "ipython",
    "version": 3
   },
   "file_extension": ".py",
   "mimetype": "text/x-python",
   "name": "python",
   "nbconvert_exporter": "python",
   "pygments_lexer": "ipython3",
   "version": "3.8.1"
  }
 },
 "nbformat": 4,
 "nbformat_minor": 1
}
