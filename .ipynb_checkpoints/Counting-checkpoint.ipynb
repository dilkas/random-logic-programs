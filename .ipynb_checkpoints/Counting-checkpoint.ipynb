{
 "cells": [
  {
   "cell_type": "code",
   "execution_count": 75,
   "metadata": {},
   "outputs": [],
   "source": [
    "from operator import mul\n",
    "from scipy.special import binom\n",
    "from functools import reduce\n",
    "from itertools import product\n",
    "from math import factorial"
   ]
  },
  {
   "cell_type": "code",
   "execution_count": 12,
   "metadata": {},
   "outputs": [],
   "source": [
    "def partitions(n):\n",
    "    L = [[1]]\n",
    "    for _ in range(n-1):\n",
    "        L2 = []\n",
    "        for l in L:\n",
    "            L2.append(l + [1])\n",
    "            L2.append(l[:-1] + [l[-1] + 1])\n",
    "        L = L2\n",
    "    return L"
   ]
  },
  {
   "cell_type": "code",
   "execution_count": 87,
   "metadata": {},
   "outputs": [],
   "source": [
    "def fixed_length_partitions(n, num_partitions):\n",
    "    assert n >= num_partitions\n",
    "    L = [[]]\n",
    "    for i in range(num_partitions - 1):\n",
    "        L2 = []\n",
    "        for l in L:\n",
    "            L2 += [l + [k] for k in range(1, n - sum(l) + 1 - (num_partitions - 1 - i))]\n",
    "        L = L2\n",
    "    for l in L:\n",
    "        l.append(n - sum(l))\n",
    "    #print(L)\n",
    "    return L"
   ]
  },
  {
   "cell_type": "code",
   "execution_count": 88,
   "metadata": {},
   "outputs": [],
   "source": [
    "def count_programs(arities, predicates_with_arity, num_variables, num_constants, max_num_nodes, max_num_clauses):\n",
    "    num_predicates = sum(predicates_with_arity)\n",
    "    def arity(a):\n",
    "        'The arity of predicate indexed at a'\n",
    "        i = 0\n",
    "        while (a + 1 > predicates_with_arity[i]):\n",
    "            a -= predicates_with_arity[i]\n",
    "            i += 1\n",
    "        return arities[i]\n",
    "    \n",
    "    A = sum([p_a*(num_variables+num_constants)**a for (a, p_a) in zip(arities, predicates_with_arity)])\n",
    "    #print('atoms:', A)\n",
    "\n",
    "    def T(n):\n",
    "        if n == 1:\n",
    "            return A\n",
    "        return T(n-1) + 2 * sum([reduce(mul, [T(k) for k in partition], 1) for partition in partitions(n-1)])\n",
    "    C = 1 + sum([T(n) for n in range(1, max_num_nodes + 1)])\n",
    "    #print('bodies:', C)\n",
    "\n",
    "    def H(a):\n",
    "        return int(sum(binom(a, v) * num_constants**(a-v) *\n",
    "                       sum(binom(v-1, k)for k in range(num_variables)) for v in range(1, a + 1)))\n",
    "\n",
    "    s = 0\n",
    "    for n in range(num_predicates, max_num_clauses + 1):\n",
    "        for partition in fixed_length_partitions(n, num_predicates):\n",
    "            m = int(reduce(mul, [binom(C, h) * H(arity(i))**h for i,h in enumerate(partition)], 1))\n",
    "            #print(m)\n",
    "            s += m\n",
    "    return s"
   ]
  },
  {
   "cell_type": "code",
   "execution_count": 95,
   "metadata": {
    "scrolled": true
   },
   "outputs": [],
   "source": [
    "arities = [[1], [2], [1, 1], [3], [2, 1], [1, 1, 1], [4], [3, 1], [2, 2], [2, 1, 1], [1, 1, 1, 1]]\n",
    "r = list(range(1, 5))\n",
    "predicates_with_arity = {1: r, 2: list(product(r, r)), 3: list(product(r, r, r)), 4: list(product(r, r, r, r))}\n",
    "num_variables = r\n",
    "num_constants = range(0, 4)\n",
    "max_num_nodes = r\n",
    "MAX = 100000\n",
    "\n",
    "f = open('program_counts.csv', 'w+')\n",
    "for arity in arities:\n",
    "    for pred in predicates_with_arity[len(arity)]:\n",
    "        if isinstance(pred, tuple):\n",
    "            pred = list(pred)\n",
    "        elif not isinstance(pred, list):\n",
    "            pred = [pred]\n",
    "        num_pred = sum(pred)\n",
    "        for num_var in num_variables:\n",
    "            for num_const in num_constants:\n",
    "                for max_nodes in max_num_nodes:\n",
    "                    for max_clauses in range(num_pred, num_pred + 6):\n",
    "                        count = count_programs(arity, pred, num_var, num_const, max_nodes, max_clauses)\n",
    "                        if count > MAX:\n",
    "                            break\n",
    "                        d = [arity, pred, num_var, num_const, max_nodes, max_clauses, count]\n",
    "                        s = ';'.join([str(t) for t in d])\n",
    "                        f.write(s+'\\n')\n",
    "f.close()"
   ]
  },
  {
   "cell_type": "code",
   "execution_count": 89,
   "metadata": {},
   "outputs": [
    {
     "data": {
      "text/plain": [
       "3"
      ]
     },
     "execution_count": 89,
     "metadata": {},
     "output_type": "execute_result"
    }
   ],
   "source": [
    "count_programs([1], [1], 1, 0, 1, 2)"
   ]
  },
  {
   "cell_type": "code",
   "execution_count": 73,
   "metadata": {},
   "outputs": [
    {
     "name": "stdout",
     "output_type": "stream",
     "text": [
      "[[1, 1, 3], [1, 2, 2], [1, 3, 1], [2, 1, 2], [2, 2, 1], [3, 1, 1]]\n"
     ]
    },
    {
     "data": {
      "text/plain": [
       "[[1, 1, 3], [1, 2, 2], [1, 3, 1], [2, 1, 2], [2, 2, 1], [3, 1, 1]]"
      ]
     },
     "execution_count": 73,
     "metadata": {},
     "output_type": "execute_result"
    }
   ],
   "source": [
    "fixed_length_partitions(5, 3)"
   ]
  },
  {
   "cell_type": "code",
   "execution_count": null,
   "metadata": {},
   "outputs": [],
   "source": []
  }
 ],
 "metadata": {
  "kernelspec": {
   "display_name": "Python 3",
   "language": "python",
   "name": "python3"
  },
  "language_info": {
   "codemirror_mode": {
    "name": "ipython",
    "version": 3
   },
   "file_extension": ".py",
   "mimetype": "text/x-python",
   "name": "python",
   "nbconvert_exporter": "python",
   "pygments_lexer": "ipython3",
   "version": "3.8.1"
  }
 },
 "nbformat": 4,
 "nbformat_minor": 2
}
